{
 "cells": [
  {
   "cell_type": "code",
   "execution_count": 6,
   "metadata": {
    "collapsed": true
   },
   "outputs": [],
   "source": [
    "import sys\n",
    "sys.path.append(\"../\")"
   ]
  },
  {
   "cell_type": "code",
   "source": [
    "from py3js.tree import Tree, Node, TreeKind"
   ],
   "metadata": {
    "collapsed": false,
    "pycharm": {
     "name": "#%%\n"
    }
   },
   "execution_count": 7,
   "outputs": []
  },
  {
   "cell_type": "code",
   "execution_count": 8,
   "outputs": [],
   "source": [
    "root = Node(\"christmas\", [\n",
    "    Node(\"tree\"),\n",
    "    Node(\"presents\"),\n",
    "    Node(\"holiday\", [\n",
    "        Node(\"Covid\", [\n",
    "            Node(\"sit at home\"),\n",
    "            Node(\"a very long label \\na very long \\n label a very long label \")\n",
    "        ]),\n",
    "        Node(\"Not Covid\"),\n",
    "\n",
    "    ])\n",
    "])"
   ],
   "metadata": {
    "collapsed": false,
    "pycharm": {
     "name": "#%%\n"
    }
   }
  },
  {
   "cell_type": "code",
   "execution_count": 9,
   "outputs": [
    {
     "data": {
      "text/plain": "<py3js.tree.Tree at 0x2a89f279240>",
      "text/html": "<iframe src=\"data:text/html;charset=utf-8;base64,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\" width=\"800\" height=\"600\" scrolling=\"no\" style=\"border:none !important;\"></iframe>"
     },
     "execution_count": 9,
     "metadata": {},
     "output_type": "execute_result"
    }
   ],
   "source": [
    "# normal view\n",
    "\n",
    "Tree(root, TreeKind.TIDY, width=800, font_size=15)"
   ],
   "metadata": {
    "collapsed": false,
    "pycharm": {
     "name": "#%%\n"
    }
   }
  },
  {
   "cell_type": "code",
   "execution_count": 10,
   "outputs": [
    {
     "data": {
      "text/plain": "<py3js.tree.Tree at 0x2a89f2782e0>",
      "text/html": "<iframe src=\"data:text/html;charset=utf-8;base64,PCFET0NUWVBFIGh0bWw+CjxodG1sIGxhbmc9ImVuIj4KPGhlYWQ+CiAgICA8bWV0YSBjaGFyc2V0PSJVVEYtOCI+CiAgICA8c2NyaXB0IHNyYz0iaHR0cHM6Ly9kM2pzLm9yZy9kMy52Ni5taW4uanMiPjwvc2NyaXB0PgogICAgPHN0eWxlPgogICAgICAgIHN2ZyB7YmFja2dyb3VuZC1jb2xvcjogIndoaXRlIjsgfQogICAgPC9zdHlsZT4KPC9oZWFkPgo8Ym9keT4KPHN2ZyB3aWR0aD0iMTAwMCIgaGVpZ2h0PSI2MDAiPjwvc3ZnPgoKPHNjcmlwdD4KCiAgICBjb25zdCBzdmcgPSBkMy5zZWxlY3QoInN2ZyIpOwogICAgY29uc3Qgd2lkdGggPSBzdmcuYXR0cigid2lkdGgiKTsKICAgIGxldCBoZWlnaHQgPSBzdmcuYXR0cigiaGVpZ2h0Iik7CgogICAgCmNvbnN0IHJhZGl1cyA9IHdpZHRoLzI7CmNvbnN0IGRhdGEgPSBkMy5oaWVyYXJjaHkoeyJuYW1lIjogImNocmlzdG1hcyIsICJjaGlsZHJlbiI6IFt7Im5hbWUiOiAidHJlZSIsICJjaGlsZHJlbiI6IFtdLCAiY29sb3IiOiBudWxsfSwgeyJuYW1lIjogInByZXNlbnRzIiwgImNoaWxkcmVuIjogW10sICJjb2xvciI6IG51bGx9LCB7Im5hbWUiOiAiaG9saWRheSIsICJjaGlsZHJlbiI6IFt7Im5hbWUiOiAiQ292aWQiLCAiY2hpbGRyZW4iOiBbeyJuYW1lIjogInNpdCBhdCBob21lIiwgImNoaWxkcmVuIjogW10sICJjb2xvciI6IG51bGx9LCB7Im5hbWUiOiAiYSB2ZXJ5IGxvbmcgbGFiZWwgXG5hIHZlcnkgbG9uZyBcbiBsYWJlbCBhIHZlcnkgbG9uZyBsYWJlbCAiLCAiY2hpbGRyZW4iOiBbXSwgImNvbG9yIjogbnVsbH1dLCAiY29sb3IiOiBudWxsfSwgeyJuYW1lIjogIk5vdCBDb3ZpZCIsICJjaGlsZHJlbiI6IFtdLCAiY29sb3IiOiBudWxsfV0sICJjb2xvciI6IG51bGx9XSwgImNvbG9yIjogbnVsbH0pLnNvcnQoKGEsIGIpID0+IGQzLmFzY2VuZGluZyhhLmRhdGEubmFtZSwgYi5kYXRhLm5hbWUpKTsKdHJlZSA9IGQzLnRyZWUoKS5zaXplKFsyICogTWF0aC5QSSwgcmFkaXVzXSkuc2VwYXJhdGlvbigoYSwgYikgPT4gKGEucGFyZW50ID09IGIucGFyZW50ID8gMSA6IDIpIC8gYS5kZXB0aCk7CmNvbnN0IHJvb3QgPSB0cmVlKGRhdGEpOwpzdmcuYXBwZW5kKCJnIikKICAgICAgICAgICAgLmF0dHIoImZpbGwiLCAibm9uZSIpCiAgICAgICAgICAgIC5hdHRyKCJzdHJva2UiLCAiIzU1NSIpCiAgICAgICAgICAgIC5hdHRyKCJzdHJva2Utb3BhY2l0eSIsIDAuNCkKICAgICAgICAgICAgLmF0dHIoInN0cm9rZS13aWR0aCIsIDEuNSkKICAgICAgICAgICAgLnNlbGVjdEFsbCgicGF0aCIpCiAgICAgICAgICAgIC5kYXRhKHJvb3QubGlua3MoKSkKICAgICAgICAgICAgLmpvaW4oInBhdGgiKQogICAgICAgICAgICAuYXR0cigiZCIsIGQzLmxpbmtSYWRpYWwoKQogICAgICAgICAgICAgICAgLmFuZ2xlKGQgPT4gZC54KQogICAgICAgICAgICAgICAgLnJhZGl1cyhkID0+IGQueSkpOwpzdmcuYXBwZW5kKCJnIikKICAgICAgICAgICAgLnNlbGVjdEFsbCgiY2lyY2xlIikKICAgICAgICAgICAgLmRhdGEocm9vdC5kZXNjZW5kYW50cygpKQogICAgICAgICAgICAuam9pbigiY2lyY2xlIikKICAgICAgICAgICAgLmF0dHIoInRyYW5zZm9ybSIsIGQgPT4gYAogICAgICAgICAgICByb3RhdGUoJHtkLnggKiAxODAgLyBNYXRoLlBJIC0gOTB9KQogICAgICAgICAgICB0cmFuc2xhdGUoJHtkLnl9LDApCiAgICAgICAgICBgKQogICAgICAgICAgICAuYXR0cigiZmlsbCIsIGQgPT4gZC5jaGlsZHJlbiA/ICIjNTU1IiA6ICIjOTk5IikKICAgICAgICAgICAgLmF0dHIoInIiLCAyLjUpOwogc3ZnLmFwcGVuZCgiZyIpCiAgICAgICAgICAgIC5hdHRyKCJmb250LWZhbWlseSIsICJzYW5zLXNlcmlmIikKICAgICAgICAgICAgLmF0dHIoImZvbnQtc2l6ZSIsIDEwKQogICAgICAgICAgICAuYXR0cigic3Ryb2tlLWxpbmVqb2luIiwgInJvdW5kIikKICAgICAgICAgICAgLmF0dHIoInN0cm9rZS13aWR0aCIsIDMpCiAgICAgICAgICAgIC5zZWxlY3RBbGwoInRleHQiKQogICAgICAgICAgICAuZGF0YShyb290LmRlc2NlbmRhbnRzKCkpCiAgICAgICAgICAgIC5qb2luKCJ0ZXh0IikKICAgICAgICAgICAgLmF0dHIoInRyYW5zZm9ybSIsIGQgPT4gYAogICAgICAgICAgICByb3RhdGUoJHtkLnggKiAxODAgLyBNYXRoLlBJIC0gOTB9KQogICAgICAgICAgICB0cmFuc2xhdGUoJHtkLnl9LDApCiAgICAgICAgICAgIHJvdGF0ZSgke2QueCA+PSBNYXRoLlBJID8gMTgwIDogMH0pCiAgICAgICAgICBgKQogICAgICAgICAgICAuYXR0cigiZHkiLCAiMC4zMWVtIikKICAgICAgICAgICAgLmF0dHIoIngiLCBkID0+IGQueCA8IE1hdGguUEkgPT09ICFkLmNoaWxkcmVuID8gNiA6IC02KQogICAgICAgICAgICAuYXR0cigidGV4dC1hbmNob3IiLCBkID0+IGQueCA8IE1hdGguUEkgPT09ICFkLmNoaWxkcmVuID8gInN0YXJ0IiA6ICJlbmQiKQogICAgICAgICAgICAudGV4dChkID0+IGQuZGF0YS5uYW1lKQogICAgICAgICAgICAuY2xvbmUodHJ1ZSkubG93ZXIoKQogICAgICAgICAgICAuYXR0cigic3Ryb2tlIiwgIndoaXRlIik7CmZ1bmN0aW9uIGF1dG9Cb3goKSB7CiAgICAgICAgICAgIGNvbnN0IHt4LCB5LCB3aWR0aCwgaGVpZ2h0fSA9IHRoaXMuZ2V0QkJveCgpOwogICAgICAgICAgICByZXR1cm4gW3gsIHksIHdpZHRoLCBoZWlnaHRdOwogICAgICAgIH0KICAgIAogICAgICAgIHN2Zy5hdHRyKCJ2aWV3Qm94IiwgYXV0b0JveCk7Cjwvc2NyaXB0Pgo8L2JvZHk+CjwvaHRtbD4=\" width=\"1000\" height=\"600\" scrolling=\"no\" style=\"border:none !important;\"></iframe>"
     },
     "execution_count": 10,
     "metadata": {},
     "output_type": "execute_result"
    }
   ],
   "source": [
    "# radial view\n",
    "\n",
    "Tree(root, TreeKind.RADIAL_TIDY)"
   ],
   "metadata": {
    "collapsed": false,
    "pycharm": {
     "name": "#%%\n"
    }
   }
  }
 ],
 "metadata": {
  "kernelspec": {
   "display_name": "Python 3",
   "language": "python",
   "name": "python3"
  },
  "language_info": {
   "codemirror_mode": {
    "name": "ipython",
    "version": 2
   },
   "file_extension": ".py",
   "mimetype": "text/x-python",
   "name": "python",
   "nbconvert_exporter": "python",
   "pygments_lexer": "ipython2",
   "version": "2.7.6"
  }
 },
 "nbformat": 4,
 "nbformat_minor": 0
}