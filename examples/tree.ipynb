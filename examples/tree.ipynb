{
 "cells": [
  {
   "cell_type": "code",
   "execution_count": 1,
   "metadata": {
    "collapsed": true
   },
   "outputs": [],
   "source": [
    "import sys\n",
    "sys.path.append(\"../\")"
   ]
  },
  {
   "cell_type": "code",
   "source": [
    "from py3js.tree import Tree, Node, TreeKind"
   ],
   "metadata": {
    "collapsed": false,
    "pycharm": {
     "name": "#%%\n"
    }
   },
   "execution_count": 2,
   "outputs": []
  },
  {
   "cell_type": "code",
   "execution_count": 3,
   "outputs": [],
   "source": [
    "root = Node(\"christmas\", [\n",
    "    Node(\"tree\"),\n",
    "    Node(\"presents\"),\n",
    "    Node(\"holiday\", [\n",
    "        Node(\"Covid\", [\n",
    "            Node(\"sit at home\")\n",
    "        ]),\n",
    "        Node(\"Not Covid\")\n",
    "    ])\n",
    "])"
   ],
   "metadata": {
    "collapsed": false,
    "pycharm": {
     "name": "#%%\n"
    }
   }
  },
  {
   "cell_type": "code",
   "execution_count": 5,
   "outputs": [
    {
     "data": {
      "text/plain": "<py3js.tree.Tree at 0x29f6d8566e0>",
      "text/html": "<iframe src=\"data:text/html;charset=utf-8;base64,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\" width=\"1000\" height=\"600\" scrolling=\"no\" style=\"border:none !important;\"></iframe>"
     },
     "execution_count": 5,
     "metadata": {},
     "output_type": "execute_result"
    }
   ],
   "source": [
    "# normal view\n",
    "\n",
    "Tree(root, TreeKind.TIDY)"
   ],
   "metadata": {
    "collapsed": false,
    "pycharm": {
     "name": "#%%\n"
    }
   }
  },
  {
   "cell_type": "code",
   "execution_count": 6,
   "outputs": [
    {
     "data": {
      "text/plain": "<py3js.tree.Tree at 0x29f6d8551b0>",
      "text/html": "<iframe src=\"data:text/html;charset=utf-8;base64,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\" width=\"1000\" height=\"600\" scrolling=\"no\" style=\"border:none !important;\"></iframe>"
     },
     "execution_count": 6,
     "metadata": {},
     "output_type": "execute_result"
    }
   ],
   "source": [
    "# radial view\n",
    "\n",
    "Tree(root, TreeKind.RADIAL_TIDY)"
   ],
   "metadata": {
    "collapsed": false,
    "pycharm": {
     "name": "#%%\n"
    }
   }
  }
 ],
 "metadata": {
  "kernelspec": {
   "display_name": "Python 3",
   "language": "python",
   "name": "python3"
  },
  "language_info": {
   "codemirror_mode": {
    "name": "ipython",
    "version": 2
   },
   "file_extension": ".py",
   "mimetype": "text/x-python",
   "name": "python",
   "nbconvert_exporter": "python",
   "pygments_lexer": "ipython2",
   "version": "2.7.6"
  }
 },
 "nbformat": 4,
 "nbformat_minor": 0
}