{
 "cells": [
  {
   "cell_type": "code",
   "execution_count": 1,
   "metadata": {
    "ExecuteTime": {
     "end_time": "2020-10-28T12:27:21.293757Z",
     "start_time": "2020-10-28T12:27:21.275717Z"
    }
   },
   "outputs": [],
   "source": [
    "import sys\n",
    "sys.path.append(\"../\")\n",
    "\n",
    "from py3js.network import ForceDirectedGraph, Node, Link\n"
   ]
  },
  {
   "cell_type": "code",
   "execution_count": 3,
   "metadata": {
    "ExecuteTime": {
     "end_time": "2020-10-28T12:27:34.315816Z",
     "start_time": "2020-10-28T12:27:34.279823Z"
    },
    "pycharm": {
     "name": "#%%\n"
    }
   },
   "outputs": [
    {
     "data": {
      "text/html": [
       "<iframe src=\"data:text/html;charset=utf-8;base64,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\" width=\"800\" height=\"600\" scrolling=\"no\" style=\"border:none !important;\"></iframe>"
      ],
      "text/plain": [
       "<py3js.network.ForceDirectedGraph at 0x20a5bd4d580>"
      ]
     },
     "execution_count": 3,
     "metadata": {},
     "output_type": "execute_result"
    }
   ],
   "source": [
    "g = ForceDirectedGraph(800, 600)\n",
    "\n",
    "nodes = [\"dev\", \"pre-prod\", \"prod\", \"developers\", \"testers\", \"managers\"]\n",
    "colours = [\"green\", \"green\", \"green\", \"blue\", \"blue\", \"blue\"]\n",
    "\n",
    "for n, c in zip(nodes, colours):\n",
    "    g.add_nodes(Node(n, color=c))\n",
    "\n",
    "# link process\n",
    "g.add_links(Link(\"dev\", \"pre-prod\"))\n",
    "g.add_links(Link(\"pre-prod\", \"prod\"))\n",
    "\n",
    "# link involved\n",
    "g.add_links(Link(\"developers\", \"dev\"))\n",
    "g.add_links(Link(\"developers\", \"pre-prod\"))\n",
    "g.add_links(Link(\"testers\", \"pre-prod\"))\n",
    "g.add_links(Link(\"managers\", \"prod\"))\n",
    "\n",
    "g"
   ]
  }
 ],
 "metadata": {
  "kernelspec": {
   "display_name": "Python 3",
   "language": "python",
   "name": "python3"
  },
  "language_info": {
   "codemirror_mode": {
    "name": "ipython",
    "version": 3
   },
   "file_extension": ".py",
   "mimetype": "text/x-python",
   "name": "python",
   "nbconvert_exporter": "python",
   "pygments_lexer": "ipython3",
   "version": "3.8.3"
  }
 },
 "nbformat": 4,
 "nbformat_minor": 1
}
