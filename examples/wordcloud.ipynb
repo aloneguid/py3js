{
 "cells": [
  {
   "cell_type": "code",
   "execution_count": 1,
   "metadata": {
    "collapsed": true
   },
   "outputs": [],
   "source": [
    "import sys\n",
    "sys.path.append(\"../\")"
   ]
  },
  {
   "cell_type": "code",
   "execution_count": 2,
   "outputs": [],
   "source": [
    "from py3js.wordcloud import WordCloud"
   ],
   "metadata": {
    "collapsed": false,
    "pycharm": {
     "name": "#%%\n"
    }
   }
  },
  {
   "cell_type": "code",
   "execution_count": 5,
   "outputs": [
    {
     "data": {
      "text/plain": "<py3js.wordcloud.WordCloud at 0x23499299960>",
      "text/html": "<iframe src=\"data:text/html;charset=utf-8;base64,PCFET0NUWVBFIGh0bWw+CjxodG1sIGxhbmc9ImVuIj4KPGhlYWQ+CiAgICA8bWV0YSBjaGFyc2V0PSJVVEYtOCI+CiAgICA8dGl0bGU+RDMgV29yZCBDbG91ZDwvdGl0bGU+CiAgICA8c2NyaXB0IHNyYz0iaHR0cHM6Ly9kM2pzLm9yZy9kMy52Ni5taW4uanMiPjwvc2NyaXB0PgogICAgPHNjcmlwdCBzcmM9Imh0dHBzOi8vdW5wa2cuY29tL2QzLWNsb3VkQDEuMi41L2J1aWxkL2QzLmxheW91dC5jbG91ZC5qcyI+PC9zY3JpcHQ+CiAgICA8c3R5bGU+CgogICAgPC9zdHlsZT4KPC9oZWFkPgo8Ym9keT4KICAgIDxzdmcgd2lkdGg9IjgwMCIgaGVpZ2h0PSI0MDAiPjwvc3ZnPgoKICAgIDxzY3JpcHQ+CgogICAgICAgIGNvbnN0IGRhdGEgPSBbeyJ0ZXh0IjogIm9uZSIsICJ2YWx1ZSI6IDF9LCB7InRleHQiOiAidHdvIiwgInZhbHVlIjogMn0sIHsidGV4dCI6ICJ0aHJlZSIsICJ2YWx1ZSI6IDN9XTsKICAgICAgICBjb25zdCBwYWRkaW5nID0gMDsKICAgICAgICBjb25zdCBzdmcgPSBkMy5zZWxlY3QoInN2ZyIpOwogICAgICAgIGNvbnN0IHdpZHRoID0gK3N2Zy5hdHRyKCJ3aWR0aCIpOwogICAgICAgIGNvbnN0IGhlaWdodCA9ICtzdmcuYXR0cigiaGVpZ2h0Iik7CiAgICAgICAgY29uc3QgZm9udEZhbWlseSA9ICJzYW5zLXNlcmlmIjsKICAgICAgICBjb25zdCBmb250U2NhbGUgPSAxNTsKCiAgICAgICAgY29uc3Qgcm90YXRlID0gKCkgPT4gMDsKCiAgICAgICAgc3ZnCiAgICAgICAgICAgIC5hdHRyKCJ2aWV3Qm94IiwgWzAsIDAsIHdpZHRoLCBoZWlnaHRdKQogICAgICAgICAgICAuYXR0cigiZm9udC1mYW1pbHkiLCBmb250RmFtaWx5KQogICAgICAgICAgICAuYXR0cigidGV4dC1hbmNob3IiLCAibWlkZGxlIik7CgogICAgICAgIGNvbnN0IGNsb3VkID0gZDMubGF5b3V0LmNsb3VkKCkKICAgICAgICAgICAgLnNpemUoW3dpZHRoLCBoZWlnaHRdKQogICAgICAgICAgICAud29yZHMoZGF0YS5tYXAoZCA9PiBPYmplY3QuY3JlYXRlKGQpKSkKICAgICAgICAgICAgLnBhZGRpbmcocGFkZGluZykKICAgICAgICAgICAgLnJvdGF0ZShyb3RhdGUpCiAgICAgICAgICAgIC5mb250KGZvbnRGYW1pbHkpCiAgICAgICAgICAgIC5mb250U2l6ZShkID0+IE1hdGguc3FydChkLnZhbHVlKSAqIGZvbnRTY2FsZSkKICAgICAgICAgICAgLm9uKCJ3b3JkIiwgKHtzaXplLCB4LCB5LCByb3RhdGUsIHRleHR9KSA9PiB7CiAgICAgICAgICAgICAgICBzdmcuYXBwZW5kKCJ0ZXh0IikKICAgICAgICAgICAgICAgICAgICAuYXR0cigiZm9udC1zaXplIiwgc2l6ZSkKICAgICAgICAgICAgICAgICAgICAuYXR0cigidHJhbnNmb3JtIiwgYHRyYW5zbGF0ZSgke3h9LCR7eX0pIHJvdGF0ZSgke3JvdGF0ZX0pYCkKICAgICAgICAgICAgICAgICAgICAudGV4dCh0ZXh0KTsKICAgICAgICAgICAgfSk7CiAgICAgICAgY2xvdWQuc3RhcnQoKTsKCgoKCiAgICA8L3NjcmlwdD4KPC9ib2R5Pgo8L2h0bWw+\" width=\"800\" height=\"400\" scrolling=\"no\" style=\"border:none !important;\"></iframe>"
     },
     "execution_count": 5,
     "metadata": {},
     "output_type": "execute_result"
    }
   ],
   "source": [
    "wc = WordCloud([(\"one\", 1), (\"two\", 2), (\"three\", 3)], 800, 400)\n",
    "wc"
   ],
   "metadata": {
    "collapsed": false,
    "pycharm": {
     "name": "#%%\n"
    }
   }
  },
  {
   "cell_type": "code",
   "execution_count": null,
   "outputs": [],
   "source": [],
   "metadata": {
    "collapsed": false,
    "pycharm": {
     "name": "#%%\n"
    }
   }
  }
 ],
 "metadata": {
  "kernelspec": {
   "display_name": "Python 3",
   "language": "python",
   "name": "python3"
  },
  "language_info": {
   "codemirror_mode": {
    "name": "ipython",
    "version": 2
   },
   "file_extension": ".py",
   "mimetype": "text/x-python",
   "name": "python",
   "nbconvert_exporter": "python",
   "pygments_lexer": "ipython2",
   "version": "2.7.6"
  }
 },
 "nbformat": 4,
 "nbformat_minor": 0
}