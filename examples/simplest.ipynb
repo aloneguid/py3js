{
 "cells": [
  {
   "cell_type": "code",
   "execution_count": 1,
   "metadata": {
    "ExecuteTime": {
     "end_time": "2020-10-27T20:27:47.560544Z",
     "start_time": "2020-10-27T20:27:47.530500Z"
    }
   },
   "outputs": [],
   "source": [
    "import sys\n",
    "sys.path.append(\"../\")\n",
    "\n",
    "from py3js.network import ForceDirectedGraph, Node, Link\n"
   ]
  },
  {
   "cell_type": "code",
   "execution_count": 3,
   "metadata": {
    "ExecuteTime": {
     "end_time": "2020-10-27T20:28:11.459828Z",
     "start_time": "2020-10-27T20:28:11.427846Z"
    },
    "pycharm": {
     "name": "#%%\n"
    }
   },
   "outputs": [
    {
     "data": {
      "text/html": [
       "<iframe src=\"data:text/html;charset=utf-8;base64,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\" width=\"800\" height=\"600\" scrolling=\"no\" style=\"border:none !important;\"></iframe>"
      ],
      "text/plain": [
       "<py3js.network.ForceDirectedGraph at 0x19c24d8fe80>"
      ]
     },
     "execution_count": 3,
     "metadata": {},
     "output_type": "execute_result"
    }
   ],
   "source": [
    "g = ForceDirectedGraph(800, 600)\n",
    "\n",
    "nodes = [\"dev\", \"pre-prod\", \"prod\", \"developers\", \"testers\", \"managers\"]\n",
    "colours = [\"green\", \"green\", \"green\", \"blue\", \"blue\", \"blue\"]\n",
    "\n",
    "for n, c in zip(nodes, colours):\n",
    "    g.add_node(Node(n, color=c))\n",
    "\n",
    "# link process\n",
    "g.add_link(Link(\"dev\", \"pre-prod\"))\n",
    "g.add_link(Link(\"pre-prod\", \"prod\"))\n",
    "\n",
    "# link involved\n",
    "g.add_link(Link(\"developers\", \"dev\"))\n",
    "g.add_link(Link(\"developers\", \"pre-prod\"))\n",
    "g.add_link(Link(\"testers\", \"pre-prod\"))\n",
    "g.add_link(Link(\"managers\", \"prod\"))\n",
    "\n",
    "g"
   ]
  }
 ],
 "metadata": {
  "kernelspec": {
   "display_name": "Python 3",
   "language": "python",
   "name": "python3"
  },
  "language_info": {
   "codemirror_mode": {
    "name": "ipython",
    "version": 3
   },
   "file_extension": ".py",
   "mimetype": "text/x-python",
   "name": "python",
   "nbconvert_exporter": "python",
   "pygments_lexer": "ipython3",
   "version": "3.8.3"
  }
 },
 "nbformat": 4,
 "nbformat_minor": 1
}
