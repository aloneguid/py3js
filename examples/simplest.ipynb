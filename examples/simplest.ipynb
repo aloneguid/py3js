{
 "cells": [
  {
   "cell_type": "code",
   "execution_count": 1,
   "metadata": {
    "ExecuteTime": {
     "end_time": "2020-10-27T20:27:47.560544Z",
     "start_time": "2020-10-27T20:27:47.530500Z"
    }
   },
   "outputs": [],
   "source": [
    "import sys\n",
    "sys.path.append(\"../\")\n",
    "\n",
    "from py3js.network import ForceDirectedGraph, Node, Link\n"
   ]
  },
  {
   "cell_type": "code",
   "execution_count": 2,
   "metadata": {
    "ExecuteTime": {
     "end_time": "2020-10-27T20:27:47.576499Z",
     "start_time": "2020-10-27T20:27:47.562497Z"
    },
    "pycharm": {
     "name": "#%%\n"
    }
   },
   "outputs": [
    {
     "data": {
      "text/html": [
       "<iframe src=\"data:text/html;charset=utf-8;base64,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\" width=\"1000\" height=\"500\" scrolling=\"no\" style=\"border:none !important;\"></iframe>"
      ],
      "text/plain": [
       "<py3js.network.ForceDirectedGraph at 0x19c23ede6d0>"
      ]
     },
     "execution_count": 2,
     "metadata": {},
     "output_type": "execute_result"
    }
   ],
   "source": [
    "g = ForceDirectedGraph(800, 00)\n",
    "\n",
    "nodes = [\"dev\", \"pre-prod\", \"prod\", \"developers\", \"testers\", \"managers\"]\n",
    "colours = [\"green\", \"green\", \"green\", \"blue\", \"blue\", \"blue\"]\n",
    "\n",
    "for n, c in zip(nodes, colours):\n",
    "    g.add_node(Node(n, color=c))\n",
    "\n",
    "# link process\n",
    "g.add_link(Link(\"dev\", \"pre-prod\"))\n",
    "g.add_link(Link(\"pre-prod\", \"prod\"))\n",
    "\n",
    "# link involved\n",
    "g.add_link(Link(\"developers\", \"dev\"))\n",
    "g.add_link(Link(\"developers\", \"pre-prod\"))\n",
    "g.add_link(Link(\"testers\", \"pre-prod\"))\n",
    "g.add_link(Link(\"managers\", \"prod\"))\n",
    "\n",
    "g"
   ]
  }
 ],
 "metadata": {
  "kernelspec": {
   "display_name": "Python 3",
   "language": "python",
   "name": "python3"
  },
  "language_info": {
   "codemirror_mode": {
    "name": "ipython",
    "version": 3
   },
   "file_extension": ".py",
   "mimetype": "text/x-python",
   "name": "python",
   "nbconvert_exporter": "python",
   "pygments_lexer": "ipython3",
   "version": "3.8.3"
  }
 },
 "nbformat": 4,
 "nbformat_minor": 1
}
